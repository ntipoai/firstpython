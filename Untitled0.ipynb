{
  "nbformat": 4,
  "nbformat_minor": 0,
  "metadata": {
    "colab": {
      "provenance": [],
      "authorship_tag": "ABX9TyP5VzHtmGb4YDIpyibszrqu",
      "include_colab_link": true
    },
    "kernelspec": {
      "name": "python3",
      "display_name": "Python 3"
    },
    "language_info": {
      "name": "python"
    }
  },
  "cells": [
    {
      "cell_type": "markdown",
      "metadata": {
        "id": "view-in-github",
        "colab_type": "text"
      },
      "source": [
        "<a href=\"https://colab.research.google.com/github/ntipoai/firstpython/blob/main/Untitled0.ipynb\" target=\"_parent\"><img src=\"https://colab.research.google.com/assets/colab-badge.svg\" alt=\"Open In Colab\"/></a>"
      ]
    },
    {
      "cell_type": "code",
      "execution_count": null,
      "metadata": {
        "id": "a4CK7VcJRTAz"
      },
      "outputs": [],
      "source": []
    },
    {
      "cell_type": "markdown",
      "source": [],
      "metadata": {
        "id": "GQiswe7CR2tr"
      }
    },
    {
      "cell_type": "markdown",
      "source": [
        "**The First Markdown Cell**\n",
        "\n",
        "\n",
        "# My name is Kyu Lee\n",
        "\n",
        "Computer Science Department\n",
        "\n",
        "*  Computer Literacy\n",
        "*  Python Programming\n",
        "\n",
        "| Rank | Languages |\n",
        "|:-----:|-----------|\n",
        "|     1| Javascript|\n",
        "|     2| Python    |\n",
        "|     3| SQL       |\n",
        "\n",
        "<picture>\n",
        "<img alt=\"Quasi\" src=\"https://e7.pngegg.com/pngimages/197/714/png-clipart-quasimoto-the-further-adventures-of-lord-quas-planned-attack-yessir-whatever-music-others-thumbnail.png\">\n",
        "</picture>\n"
      ],
      "metadata": {
        "id": "7uxzR1lTTmAP"
      }
    },
    {
      "cell_type": "code",
      "source": [
        "print ('Hello, YearUP Students')\n",
        "num1 = 100\n",
        "num2 = 200\n",
        "num3 = 100 + 200\n",
        "print (num3)\n"
      ],
      "metadata": {
        "colab": {
          "base_uri": "https://localhost:8080/"
        },
        "id": "bObiCg6QYBV9",
        "outputId": "e249b6ad-a302-44a2-9099-b3b20d8f3d3d"
      },
      "execution_count": 2,
      "outputs": [
        {
          "output_type": "stream",
          "name": "stdout",
          "text": [
            "Hello, YearUP Students\n",
            "300\n"
          ]
        }
      ]
    }
  ]
}